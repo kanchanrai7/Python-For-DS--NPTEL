{
 "cells": [
  {
   "cell_type": "markdown",
   "id": "deb1a1fc",
   "metadata": {},
   "source": [
    "### NumPy Intro\n",
    "It is used for data analysis, short for 'numerical python'. Used to work on arrays<br>\n",
    "Numpy provides efficient storage.<br>It also provides better ways of handling data for processing.<br>\n",
    "It is Fast and easy to learn.<br>\n",
    "NumPy uses relatively less memory to store data."
   ]
  },
  {
   "cell_type": "code",
   "execution_count": 1,
   "id": "588660bf",
   "metadata": {},
   "outputs": [],
   "source": [
    "import numpy as np"
   ]
  },
  {
   "cell_type": "code",
   "execution_count": 71,
   "id": "0c3c61a2",
   "metadata": {},
   "outputs": [],
   "source": [
    "myarr = np.array([3.7,4.0,5.9,6.0]) #if we dont specify for integer, the datatype is int32"
   ]
  },
  {
   "cell_type": "markdown",
   "id": "d6a2351c",
   "metadata": {},
   "source": [
    "*this is how we nake a numpy array, we can also specify the datatype as shown below*"
   ]
  },
  {
   "cell_type": "code",
   "execution_count": 72,
   "id": "576db851",
   "metadata": {},
   "outputs": [
    {
     "data": {
      "text/plain": [
       "dtype('float64')"
      ]
     },
     "execution_count": 72,
     "metadata": {},
     "output_type": "execute_result"
    }
   ],
   "source": [
    "myarr.dtype #returns the array"
   ]
  },
  {
   "cell_type": "code",
   "execution_count": 4,
   "id": "b893ff19",
   "metadata": {},
   "outputs": [],
   "source": [
    "myarr1=np.array([3,4,5,6], np.int8) #specifying the datatype as int8 1D array"
   ]
  },
  {
   "cell_type": "code",
   "execution_count": 5,
   "id": "0aa79fb4",
   "metadata": {},
   "outputs": [
    {
     "data": {
      "text/plain": [
       "array([3, 4, 5, 6], dtype=int8)"
      ]
     },
     "execution_count": 5,
     "metadata": {},
     "output_type": "execute_result"
    }
   ],
   "source": [
    "myarr1"
   ]
  },
  {
   "cell_type": "markdown",
   "id": "cd15b3d9",
   "metadata": {},
   "source": [
    "***remember if we use int8 then the integers in the array should not be greater than 8 bit, \n",
    "<br> likewise we can use int16/int32/int64 etc***"
   ]
  },
  {
   "cell_type": "code",
   "execution_count": 6,
   "id": "f354020e",
   "metadata": {},
   "outputs": [
    {
     "data": {
      "text/plain": [
       "3"
      ]
     },
     "execution_count": 6,
     "metadata": {},
     "output_type": "execute_result"
    }
   ],
   "source": [
    "myarr1[0] #accessing the 0th element"
   ]
  },
  {
   "cell_type": "code",
   "execution_count": 7,
   "id": "a5f82d4d",
   "metadata": {},
   "outputs": [
    {
     "data": {
      "text/plain": [
       "5"
      ]
     },
     "execution_count": 7,
     "metadata": {},
     "output_type": "execute_result"
    }
   ],
   "source": [
    "myarr1[2]"
   ]
  },
  {
   "cell_type": "code",
   "execution_count": 8,
   "id": "e3bd46ea",
   "metadata": {},
   "outputs": [
    {
     "data": {
      "text/plain": [
       "3"
      ]
     },
     "execution_count": 8,
     "metadata": {},
     "output_type": "execute_result"
    }
   ],
   "source": [
    "myarr1[0] #out of bound index"
   ]
  },
  {
   "cell_type": "code",
   "execution_count": 9,
   "id": "9c8b5a57",
   "metadata": {},
   "outputs": [],
   "source": [
    "myarr2=np.array([[3,2,4,5]], np.int64) #2D array"
   ]
  },
  {
   "cell_type": "code",
   "execution_count": 10,
   "id": "810ddc4c",
   "metadata": {},
   "outputs": [
    {
     "data": {
      "text/plain": [
       "array([3, 2, 4, 5], dtype=int64)"
      ]
     },
     "execution_count": 10,
     "metadata": {},
     "output_type": "execute_result"
    }
   ],
   "source": [
    "myarr2[0] "
   ]
  },
  {
   "cell_type": "code",
   "execution_count": 11,
   "id": "181738b0",
   "metadata": {},
   "outputs": [
    {
     "data": {
      "text/plain": [
       "4"
      ]
     },
     "execution_count": 11,
     "metadata": {},
     "output_type": "execute_result"
    }
   ],
   "source": [
    "myarr2[0,2] #returns the 3rd element in the first array in this 2D array"
   ]
  },
  {
   "cell_type": "code",
   "execution_count": 12,
   "id": "b80325f6",
   "metadata": {},
   "outputs": [
    {
     "ename": "IndexError",
     "evalue": "index 1 is out of bounds for axis 0 with size 1",
     "output_type": "error",
     "traceback": [
      "\u001b[1;31m---------------------------------------------------------------------------\u001b[0m",
      "\u001b[1;31mIndexError\u001b[0m                                Traceback (most recent call last)",
      "Cell \u001b[1;32mIn[12], line 1\u001b[0m\n\u001b[1;32m----> 1\u001b[0m \u001b[43mmyarr2\u001b[49m\u001b[43m[\u001b[49m\u001b[38;5;241;43m1\u001b[39;49m\u001b[43m]\u001b[49m \u001b[38;5;66;03m#outofbound\u001b[39;00m\n",
      "\u001b[1;31mIndexError\u001b[0m: index 1 is out of bounds for axis 0 with size 1"
     ]
    }
   ],
   "source": [
    "myarr2[1] #outofbound"
   ]
  },
  {
   "cell_type": "code",
   "execution_count": 13,
   "id": "89d6ceb2",
   "metadata": {},
   "outputs": [
    {
     "data": {
      "text/plain": [
       "(4,)"
      ]
     },
     "execution_count": 13,
     "metadata": {},
     "output_type": "execute_result"
    }
   ],
   "source": [
    "myarr1.shape #returns the details of the array, 4 rows 0 columns"
   ]
  },
  {
   "cell_type": "code",
   "execution_count": 14,
   "id": "d8797173",
   "metadata": {},
   "outputs": [
    {
     "data": {
      "text/plain": [
       "(1, 4)"
      ]
     },
     "execution_count": 14,
     "metadata": {},
     "output_type": "execute_result"
    }
   ],
   "source": [
    "myarr2.shape # 1 row 4 columns"
   ]
  },
  {
   "cell_type": "code",
   "execution_count": 15,
   "id": "47f668a7",
   "metadata": {},
   "outputs": [
    {
     "data": {
      "text/plain": [
       "(4,)"
      ]
     },
     "execution_count": 15,
     "metadata": {},
     "output_type": "execute_result"
    }
   ],
   "source": [
    "myarr.shape"
   ]
  },
  {
   "cell_type": "code",
   "execution_count": 16,
   "id": "aa960c18",
   "metadata": {},
   "outputs": [
    {
     "data": {
      "text/plain": [
       "dtype('int32')"
      ]
     },
     "execution_count": 16,
     "metadata": {},
     "output_type": "execute_result"
    }
   ],
   "source": [
    "myarr.dtype # returns the datatype"
   ]
  },
  {
   "cell_type": "code",
   "execution_count": 17,
   "id": "fb9d67e6",
   "metadata": {},
   "outputs": [
    {
     "data": {
      "text/plain": [
       "dtype('int8')"
      ]
     },
     "execution_count": 17,
     "metadata": {},
     "output_type": "execute_result"
    }
   ],
   "source": [
    "myarr1.dtype"
   ]
  },
  {
   "cell_type": "code",
   "execution_count": 18,
   "id": "74f13760",
   "metadata": {},
   "outputs": [
    {
     "data": {
      "text/plain": [
       "dtype('int64')"
      ]
     },
     "execution_count": 18,
     "metadata": {},
     "output_type": "execute_result"
    }
   ],
   "source": [
    "myarr2.dtype"
   ]
  },
  {
   "attachments": {
    "image.png": {
     "image/png": "[encoded data removed]"
    }
   },
   "cell_type": "markdown",
   "id": "8b009d01",
   "metadata": {},
   "source": [
    "### Datatypes in numpy\n",
    "\n",
    "![image.png](attachment:image.png)"
   ]
  },
  {
   "cell_type": "code",
   "execution_count": 19,
   "id": "7c43a622",
   "metadata": {},
   "outputs": [],
   "source": [
    "myarr[0]=9 #changes the value at index 0"
   ]
  },
  {
   "cell_type": "code",
   "execution_count": 20,
   "id": "d80b61b6",
   "metadata": {},
   "outputs": [
    {
     "data": {
      "text/plain": [
       "array([9, 4, 5, 6])"
      ]
     },
     "execution_count": 20,
     "metadata": {},
     "output_type": "execute_result"
    }
   ],
   "source": [
    "myarr"
   ]
  },
  {
   "cell_type": "markdown",
   "id": "14ac2fc8",
   "metadata": {},
   "source": [
    "### Array creation methods\n",
    "There are 5 methods to create an array\n",
    "<br> 1. Conversion from other python structures, above method is that only where we took a list in python and conv\n",
    "erted it to numpy array using the object 'np'.\n"
   ]
  },
  {
   "cell_type": "code",
   "execution_count": 21,
   "id": "9871391f",
   "metadata": {},
   "outputs": [],
   "source": [
    "myarr3= np.array((45,6,7)) #using tuple to create array"
   ]
  },
  {
   "cell_type": "code",
   "execution_count": 22,
   "id": "cda544ab",
   "metadata": {},
   "outputs": [
    {
     "data": {
      "text/plain": [
       "dtype('int32')"
      ]
     },
     "execution_count": 22,
     "metadata": {},
     "output_type": "execute_result"
    }
   ],
   "source": [
    "myarr3.dtype"
   ]
  },
  {
   "cell_type": "markdown",
   "id": "eb6348d0",
   "metadata": {},
   "source": [
    "*here we created an array from tuple in python*"
   ]
  },
  {
   "cell_type": "code",
   "execution_count": 23,
   "id": "06ee8ec1",
   "metadata": {},
   "outputs": [
    {
     "data": {
      "text/plain": [
       "array([45,  6,  7])"
      ]
     },
     "execution_count": 23,
     "metadata": {},
     "output_type": "execute_result"
    }
   ],
   "source": [
    "myarr3"
   ]
  },
  {
   "cell_type": "code",
   "execution_count": 24,
   "id": "fca1933d",
   "metadata": {},
   "outputs": [
    {
     "data": {
      "text/plain": [
       "numpy.ndarray"
      ]
     },
     "execution_count": 24,
     "metadata": {},
     "output_type": "execute_result"
    }
   ],
   "source": [
    "type(myarr) #returns the class of myarr, ndarray is the array object"
   ]
  },
  {
   "cell_type": "code",
   "execution_count": 25,
   "id": "0d92c096",
   "metadata": {},
   "outputs": [
    {
     "name": "stdout",
     "output_type": "stream",
     "text": [
      "<class 'numpy.ndarray'>\n"
     ]
    }
   ],
   "source": [
    "print(type(myarr))"
   ]
  },
  {
   "cell_type": "code",
   "execution_count": 26,
   "id": "d2bebf98",
   "metadata": {},
   "outputs": [
    {
     "data": {
      "text/plain": [
       "1"
      ]
     },
     "execution_count": 26,
     "metadata": {},
     "output_type": "execute_result"
    }
   ],
   "source": [
    "myarr.ndim #returns the array dimensions"
   ]
  },
  {
   "cell_type": "code",
   "execution_count": 27,
   "id": "d51bc295",
   "metadata": {},
   "outputs": [],
   "source": [
    "a=np.array([[1,2,3],[4,5,6],[7,8,9]])"
   ]
  },
  {
   "cell_type": "code",
   "execution_count": 28,
   "id": "02bdccd4",
   "metadata": {},
   "outputs": [
    {
     "data": {
      "text/plain": [
       "array([[1, 2, 3],\n",
       "       [4, 5, 6],\n",
       "       [7, 8, 9]])"
      ]
     },
     "execution_count": 28,
     "metadata": {},
     "output_type": "execute_result"
    }
   ],
   "source": [
    "a"
   ]
  },
  {
   "cell_type": "code",
   "execution_count": 29,
   "id": "f153775c",
   "metadata": {},
   "outputs": [
    {
     "name": "stdout",
     "output_type": "stream",
     "text": [
      "[[1 2 3]\n",
      " [4 5 6]\n",
      " [7 8 9]]\n"
     ]
    }
   ],
   "source": [
    "print(a)"
   ]
  },
  {
   "cell_type": "code",
   "execution_count": 31,
   "id": "a724b723",
   "metadata": {},
   "outputs": [],
   "source": [
    "b=np.array([1,2,3],ndmin=5) #new dimension =5"
   ]
  },
  {
   "cell_type": "code",
   "execution_count": 32,
   "id": "4bf45cb5",
   "metadata": {},
   "outputs": [
    {
     "data": {
      "text/plain": [
       "array([[[[[1, 2, 3]]]]])"
      ]
     },
     "execution_count": 32,
     "metadata": {},
     "output_type": "execute_result"
    }
   ],
   "source": [
    "b"
   ]
  },
  {
   "cell_type": "code",
   "execution_count": 33,
   "id": "74c486e2",
   "metadata": {},
   "outputs": [
    {
     "data": {
      "text/plain": [
       "5"
      ]
     },
     "execution_count": 33,
     "metadata": {},
     "output_type": "execute_result"
    }
   ],
   "source": [
    "b.ndim"
   ]
  },
  {
   "cell_type": "code",
   "execution_count": 34,
   "id": "e9ad1c49",
   "metadata": {},
   "outputs": [],
   "source": [
    "arr = np.array([[[1, 2, 3], [4, 5, 6]], [[7, 8, 9], [10, 11, 12]]])"
   ]
  },
  {
   "cell_type": "code",
   "execution_count": 35,
   "id": "dbb1c1ec",
   "metadata": {},
   "outputs": [
    {
     "data": {
      "text/plain": [
       "array([[[ 1,  2,  3],\n",
       "        [ 4,  5,  6]],\n",
       "\n",
       "       [[ 7,  8,  9],\n",
       "        [10, 11, 12]]])"
      ]
     },
     "execution_count": 35,
     "metadata": {},
     "output_type": "execute_result"
    }
   ],
   "source": [
    "arr"
   ]
  },
  {
   "cell_type": "code",
   "execution_count": 36,
   "id": "dbb990fc",
   "metadata": {},
   "outputs": [],
   "source": [
    "a={}"
   ]
  },
  {
   "cell_type": "code",
   "execution_count": 37,
   "id": "54879d94",
   "metadata": {},
   "outputs": [
    {
     "data": {
      "text/plain": [
       "dict"
      ]
     },
     "execution_count": 37,
     "metadata": {},
     "output_type": "execute_result"
    }
   ],
   "source": [
    "type(a) #not set it is dictionary remember"
   ]
  },
  {
   "cell_type": "code",
   "execution_count": 38,
   "id": "897fa65e",
   "metadata": {},
   "outputs": [],
   "source": [
    "str1=\"hello\""
   ]
  },
  {
   "cell_type": "code",
   "execution_count": 39,
   "id": "34fde358",
   "metadata": {},
   "outputs": [
    {
     "data": {
      "text/plain": [
       "'h'"
      ]
     },
     "execution_count": 39,
     "metadata": {},
     "output_type": "execute_result"
    }
   ],
   "source": [
    "str1[0]"
   ]
  },
  {
   "cell_type": "code",
   "execution_count": 41,
   "id": "6ae524fc",
   "metadata": {},
   "outputs": [],
   "source": [
    "a=124"
   ]
  },
  {
   "cell_type": "code",
   "execution_count": 44,
   "id": "4e0640d9",
   "metadata": {},
   "outputs": [
    {
     "data": {
      "text/plain": [
       "int"
      ]
     },
     "execution_count": 44,
     "metadata": {},
     "output_type": "execute_result"
    }
   ],
   "source": [
    "type(a)"
   ]
  },
  {
   "cell_type": "code",
   "execution_count": 45,
   "id": "e9df17d7",
   "metadata": {},
   "outputs": [],
   "source": [
    "dict={}\n",
    "dict[1]='kanchan'"
   ]
  },
  {
   "cell_type": "code",
   "execution_count": 46,
   "id": "3dd35072",
   "metadata": {},
   "outputs": [
    {
     "name": "stdout",
     "output_type": "stream",
     "text": [
      "{1: 'kanchan'}\n"
     ]
    }
   ],
   "source": [
    "print(dict)"
   ]
  },
  {
   "cell_type": "code",
   "execution_count": 47,
   "id": "4bb24343",
   "metadata": {},
   "outputs": [],
   "source": [
    "dict[2]='anant'"
   ]
  },
  {
   "cell_type": "code",
   "execution_count": 48,
   "id": "961fe005",
   "metadata": {},
   "outputs": [
    {
     "name": "stdout",
     "output_type": "stream",
     "text": [
      "{1: 'kanchan', 2: 'anant'}\n"
     ]
    }
   ],
   "source": [
    "print(dict)"
   ]
  },
  {
   "cell_type": "code",
   "execution_count": 49,
   "id": "08a1dda5",
   "metadata": {},
   "outputs": [],
   "source": [
    "dict[0]='rai'"
   ]
  },
  {
   "cell_type": "code",
   "execution_count": 50,
   "id": "5ed6bda2",
   "metadata": {},
   "outputs": [
    {
     "name": "stdout",
     "output_type": "stream",
     "text": [
      "{1: 'kanchan', 2: 'anant', 0: 'rai'}\n"
     ]
    }
   ],
   "source": [
    "print(dict)"
   ]
  },
  {
   "cell_type": "code",
   "execution_count": 51,
   "id": "78150e8e",
   "metadata": {},
   "outputs": [
    {
     "data": {
      "text/plain": [
       "dict_items([(1, 'kanchan'), (2, 'anant'), (0, 'rai')])"
      ]
     },
     "execution_count": 51,
     "metadata": {},
     "output_type": "execute_result"
    }
   ],
   "source": [
    "dict.items()"
   ]
  },
  {
   "cell_type": "code",
   "execution_count": 52,
   "id": "3c8cb21a",
   "metadata": {},
   "outputs": [
    {
     "name": "stdout",
     "output_type": "stream",
     "text": [
      "dict_items([(1, 'kanchan'), (2, 'anant'), (0, 'rai')])\n"
     ]
    }
   ],
   "source": [
    "print(dict.items())"
   ]
  },
  {
   "cell_type": "code",
   "execution_count": 53,
   "id": "77449bf2",
   "metadata": {},
   "outputs": [
    {
     "name": "stdout",
     "output_type": "stream",
     "text": [
      "dict_keys([1, 2, 0])\n"
     ]
    }
   ],
   "source": [
    "print(dict.keys())"
   ]
  },
  {
   "cell_type": "code",
   "execution_count": 56,
   "id": "a4faa4b5",
   "metadata": {},
   "outputs": [
    {
     "name": "stdout",
     "output_type": "stream",
     "text": [
      "None\n"
     ]
    }
   ],
   "source": [
    "print(dict.update({1:'anant'}))"
   ]
  },
  {
   "cell_type": "code",
   "execution_count": 57,
   "id": "35a953cd",
   "metadata": {},
   "outputs": [
    {
     "name": "stdout",
     "output_type": "stream",
     "text": [
      "{1: 'anant', 2: 'anant', 0: 'rai'}\n"
     ]
    }
   ],
   "source": [
    "print(dict)"
   ]
  },
  {
   "cell_type": "code",
   "execution_count": 61,
   "id": "f324f781",
   "metadata": {},
   "outputs": [
    {
     "data": {
      "text/plain": [
       "'anant'"
      ]
     },
     "execution_count": 61,
     "metadata": {},
     "output_type": "execute_result"
    }
   ],
   "source": [
    "dict.pop(2)"
   ]
  },
  {
   "cell_type": "code",
   "execution_count": 62,
   "id": "e34b6f90",
   "metadata": {},
   "outputs": [
    {
     "name": "stdout",
     "output_type": "stream",
     "text": [
      "{1: 'anant', 0: 'rai'}\n"
     ]
    }
   ],
   "source": [
    "print(dict)"
   ]
  },
  {
   "cell_type": "code",
   "execution_count": 66,
   "id": "87e03060",
   "metadata": {},
   "outputs": [
    {
     "name": "stdout",
     "output_type": "stream",
     "text": [
      "None\n"
     ]
    }
   ],
   "source": [
    "print(dict.get(\"None\"))"
   ]
  },
  {
   "cell_type": "code",
   "execution_count": 67,
   "id": "194ad06c",
   "metadata": {},
   "outputs": [
    {
     "data": {
      "text/plain": [
       "dict_values(['anant', 'rai'])"
      ]
     },
     "execution_count": 67,
     "metadata": {},
     "output_type": "execute_result"
    }
   ],
   "source": [
    "dict.values()"
   ]
  },
  {
   "cell_type": "code",
   "execution_count": null,
   "id": "defc4041",
   "metadata": {},
   "outputs": [],
   "source": []
  }
 ],
 "metadata": {
  "kernelspec": {
   "display_name": "Python 3 (ipykernel)",
   "language": "python",
   "name": "python3"
  },
  "language_info": {
   "codemirror_mode": {
    "name": "ipython",
    "version": 3
   },
   "file_extension": ".py",
   "mimetype": "text/x-python",
   "name": "python",
   "nbconvert_exporter": "python",
   "pygments_lexer": "ipython3",
   "version": "3.11.3"
  }
 },
 "nbformat": 4,
 "nbformat_minor": 5
}
